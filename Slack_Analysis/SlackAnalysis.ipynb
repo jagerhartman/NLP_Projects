{
 "cells": [
  {
   "cell_type": "markdown",
   "metadata": {},
   "source": [
    "# Analyzing Slack posts"
   ]
  },
  {
   "cell_type": "code",
   "execution_count": 1,
   "metadata": {
    "collapsed": false
   },
   "outputs": [],
   "source": [
    "import os\n",
    "import re\n",
    "import datetime\n",
    "import matplotlib.pyplot as plt\n",
    "import numpy as np\n",
    "import pandas as pd\n",
    "import json\n",
    "import math\n",
    "#import requests - Slack API is painful with constant 403 requests.  Possible issue of OAuth vs Key\n",
    "%matplotlib inline"
   ]
  },
  {
   "cell_type": "code",
   "execution_count": 2,
   "metadata": {
    "collapsed": false
   },
   "outputs": [
    {
     "name": "stdout",
     "output_type": "stream",
     "text": [
      "\n",
      "campus_life \n",
      "---------------------\n",
      "2017-04-10.json\n",
      "2017-05-02.json\n",
      "2017-05-06.json\n",
      "2017-06-01.json\n",
      "2017-06-07.json\n",
      "2017-06-08.json\n",
      "2017-06-09.json\n",
      "2017-06-10.json\n",
      "2017-06-11.json\n",
      "2017-06-12.json\n",
      "2017-06-13.json\n",
      "2017-06-14.json\n",
      "2017-06-15.json\n",
      "2017-06-17.json\n",
      "2017-06-18.json\n",
      "2017-06-19.json\n",
      "2017-06-21.json\n",
      "2017-06-22.json\n",
      "2017-06-23.json\n",
      "2017-06-26.json\n",
      "\n",
      "channels.json \n",
      "---------------------\n",
      "\n",
      "courses \n",
      "---------------------\n",
      "2017-04-10.json\n",
      "2017-05-02.json\n",
      "2017-05-06.json\n",
      "2017-06-01.json\n",
      "2017-06-07.json\n",
      "2017-06-08.json\n",
      "2017-06-09.json\n",
      "2017-06-10.json\n",
      "2017-06-11.json\n",
      "2017-06-12.json\n",
      "2017-06-13.json\n",
      "2017-06-14.json\n",
      "2017-06-15.json\n",
      "2017-06-17.json\n",
      "2017-06-18.json\n",
      "2017-06-19.json\n",
      "2017-06-20.json\n",
      "2017-06-21.json\n",
      "2017-06-22.json\n",
      "2017-06-23.json\n",
      "2017-06-24.json\n",
      "2017-06-25.json\n",
      "2017-06-26.json\n",
      "2017-06-27.json\n",
      "2017-06-28.json\n",
      "\n",
      "frequently_asked \n",
      "---------------------\n",
      "2017-03-22.json\n",
      "2017-04-10.json\n",
      "2017-05-02.json\n",
      "2017-05-06.json\n",
      "2017-06-01.json\n",
      "2017-06-07.json\n",
      "2017-06-08.json\n",
      "2017-06-09.json\n",
      "2017-06-10.json\n",
      "2017-06-11.json\n",
      "2017-06-12.json\n",
      "2017-06-13.json\n",
      "2017-06-14.json\n",
      "2017-06-15.json\n",
      "2017-06-17.json\n",
      "2017-06-18.json\n",
      "2017-06-19.json\n",
      "2017-06-21.json\n",
      "2017-06-22.json\n",
      "2017-06-23.json\n",
      "2017-06-26.json\n",
      "\n",
      "general \n",
      "---------------------\n",
      "2017-03-22.json\n",
      "2017-03-23.json\n",
      "2017-03-27.json\n",
      "2017-04-03.json\n",
      "2017-04-04.json\n",
      "2017-05-02.json\n",
      "2017-05-03.json\n",
      "2017-05-06.json\n",
      "2017-05-08.json\n",
      "2017-05-10.json\n",
      "2017-06-07.json\n",
      "2017-06-08.json\n",
      "2017-06-09.json\n",
      "2017-06-10.json\n",
      "2017-06-11.json\n",
      "2017-06-12.json\n",
      "2017-06-13.json\n",
      "2017-06-14.json\n",
      "2017-06-15.json\n",
      "2017-06-17.json\n",
      "2017-06-18.json\n",
      "2017-06-19.json\n",
      "2017-06-21.json\n",
      "2017-06-22.json\n",
      "2017-06-23.json\n",
      "2017-06-24.json\n",
      "2017-06-25.json\n",
      "2017-06-26.json\n",
      "\n",
      "housing \n",
      "---------------------\n",
      "2017-04-03.json\n",
      "2017-05-02.json\n",
      "2017-05-06.json\n",
      "2017-06-01.json\n",
      "2017-06-07.json\n",
      "2017-06-08.json\n",
      "2017-06-09.json\n",
      "2017-06-10.json\n",
      "2017-06-11.json\n",
      "2017-06-12.json\n",
      "2017-06-13.json\n",
      "2017-06-14.json\n",
      "2017-06-15.json\n",
      "2017-06-16.json\n",
      "2017-06-17.json\n",
      "2017-06-18.json\n",
      "2017-06-19.json\n",
      "2017-06-21.json\n",
      "2017-06-22.json\n",
      "2017-06-23.json\n",
      "2017-06-26.json\n",
      "2017-06-28.json\n",
      "\n",
      "integration_logs.json \n",
      "---------------------\n",
      "\n",
      "random \n",
      "---------------------\n",
      "2017-03-22.json\n",
      "2017-03-23.json\n",
      "2017-03-27.json\n",
      "2017-04-03.json\n",
      "2017-04-04.json\n",
      "2017-05-02.json\n",
      "2017-05-03.json\n",
      "2017-05-06.json\n",
      "2017-05-08.json\n",
      "2017-05-10.json\n",
      "2017-06-07.json\n",
      "2017-06-08.json\n",
      "2017-06-09.json\n",
      "2017-06-10.json\n",
      "2017-06-11.json\n",
      "2017-06-12.json\n",
      "2017-06-13.json\n",
      "2017-06-14.json\n",
      "2017-06-15.json\n",
      "2017-06-17.json\n",
      "2017-06-18.json\n",
      "2017-06-19.json\n",
      "2017-06-21.json\n",
      "2017-06-22.json\n",
      "2017-06-23.json\n",
      "2017-06-26.json\n",
      "\n",
      "users.json \n",
      "---------------------\n",
      "\n",
      "working_fulltime \n",
      "---------------------\n",
      "2017-06-13.json\n",
      "2017-06-14.json\n",
      "2017-06-15.json\n",
      "2017-06-16.json\n",
      "2017-06-17.json\n",
      "2017-06-19.json\n",
      "2017-06-26.json\n",
      "2017-06-27.json\n"
     ]
    }
   ],
   "source": [
    "#Specify indir which is the directory of the export data download from Slack\n",
    "#Creates a list of channels and prints subdirectories with files.\n",
    "indir = '.\\CUDSI_POSTS_6292017'\n",
    "channels = []\n",
    "\n",
    "for dirname in os.listdir(indir):\n",
    "    print '\\n', dirname, '\\n', '---------------------'\n",
    "    channels.append(dirname)\n",
    "    if not dirname.endswith('.json'):\n",
    "        for filename in os.listdir(indir+\"\\\\\"+dirname):\n",
    "            print filename\n",
    "        "
   ]
  },
  {
   "cell_type": "markdown",
   "metadata": {},
   "source": [
    "### Reading in files and scraping into pd DataFrame"
   ]
  },
  {
   "cell_type": "code",
   "execution_count": 3,
   "metadata": {
    "collapsed": false,
    "scrolled": true
   },
   "outputs": [],
   "source": [
    "#Find the user ID's and user-names of all those who have joined the slack general channel\n",
    "#Should be all users in Slack since everyone is thrown into #general\n",
    "#There is now a user's json file which wasn't there when this was written\n",
    "\n",
    "user_id_to_name = {}\n",
    "for filename in os.listdir(indir+\"\\\\general\\\\\"):\n",
    "    with open(indir+\"\\\\general\\\\\"+filename, 'r') as jsonfile:\n",
    "        data = json.load(jsonfile)\n",
    "       \n",
    "    for message in data:\n",
    "        if 'subtype' in message:\n",
    "            if message['subtype'] == 'channel_join':\n",
    "                user_id = message['user']\n",
    "                user_name = re.sub('.+\\||>.+', '', message['text'], re.IGNORECASE)\n",
    "                user_id_to_name[user_id] = user_name\n",
    "           "
   ]
  },
  {
   "cell_type": "code",
   "execution_count": 4,
   "metadata": {
    "collapsed": false
   },
   "outputs": [],
   "source": [
    "#df = pd.DataFrame(columns=['user_id', 'text', 'channel', 'timestamp'])\n",
    "list_of_messages = []\n",
    "\n",
    "#Loop over each folder in main data directory\n",
    "#Each folder represents a different channel\n",
    "for dirname in os.listdir(indir):\n",
    "    if dirname.endswith('.json'):\n",
    "        continue\n",
    "    #Loop over all files in channel specific folder\n",
    "    #Each file represents a day\n",
    "    for filename in os.listdir(indir+\"\\\\\"+dirname):\n",
    "        \n",
    "        #Open up and read in .json file corresponding to a post\n",
    "        with open(indir+\"\\\\\"+dirname+\"\\\\\"+filename, 'r') as jsonfile:\n",
    "            data = json.load(jsonfile)\n",
    "        \n",
    "        #Loop over each message from the .json file.  \n",
    "        #.json file is a list of dictionaries, each dictionary \n",
    "        #corresponding to one post\n",
    "        for message in data:\n",
    "\n",
    "            #Ignores 'channel_join' messages\n",
    "            if 'subtype' in message.keys():\n",
    "                if message['subtype'] == 'channel_join':\n",
    "                    continue\n",
    "                    \n",
    "            \n",
    "            current = {'channel' : dirname,\n",
    "                       'timestamp' : float(message['ts']),\n",
    "#                       'user_id' : message['user'],\n",
    "                       'text' : re.sub(\"<.+>|'\", '', message['text'])}\n",
    "            list_of_messages.append(current)"
   ]
  },
  {
   "cell_type": "code",
   "execution_count": 5,
   "metadata": {
    "collapsed": false
   },
   "outputs": [],
   "source": [
    "# Convert lists of dictionaries into pandas dataframe\n",
    "df = pd.DataFrame(list_of_messages)\n",
    "\n",
    "#Get the date from the datetime object\n",
    "def get_date(ts):\n",
    "    date_time = datetime.datetime.fromtimestamp(ts)\n",
    "    return date_time.date()\n",
    "\n",
    "#Get the time from the datetime object\n",
    "def get_time(ts):\n",
    "    date_time = datetime.datetime.fromtimestamp(ts)\n",
    "    return date_time.time().strftime(\"%H:%M\")\n",
    "\n",
    "#Convert datetime time to a float value for plotting\n",
    "def time_to_float(t):\n",
    "    hour_minute = t.split(':')\n",
    "    return float(hour_minute[0]) + float(hour_minute[1])/60\n",
    "\n",
    "#Converts channels to ints to be better handled as labels in numpy\n",
    "channel_to_numeric = {}\n",
    "for i, channel in enumerate(np.unique(df['channel'])):\n",
    "    channel_to_numeric[channel] = i\n",
    "\n",
    "#Apply functions to create new columns\n",
    "df['date'] = df['timestamp'].apply(get_date)            \n",
    "df['time'] = df['timestamp'].apply(get_time)\n",
    "#df['username'] = df['user_id'].apply(lambda x: user_id_to_name[x])  \n",
    "df['numeric_label'] = df['channel'].apply(lambda x: channel_to_numeric[x])"
   ]
  },
  {
   "cell_type": "markdown",
   "metadata": {},
   "source": [
    "### Base stats plots showing counts of posts"
   ]
  },
  {
   "cell_type": "code",
   "execution_count": 6,
   "metadata": {
    "collapsed": false
   },
   "outputs": [
    {
     "data": {
      "image/png": "[encoded data removed]",
      "text/plain": [
       "<matplotlib.figure.Figure at 0x933c390>"
      ]
     },
     "metadata": {},
     "output_type": "display_data"
    }
   ],
   "source": [
    "#Initialize Plot\n",
    "fig = plt.figure(figsize=(15,10))\n",
    "\n",
    "#First axes in upper left shows number of posts per day in total\n",
    "#The red line shows the date which the Slack group invited students\n",
    "axes = fig.add_subplot(2,2,1)\n",
    "df['date'].value_counts().sort_index().plot(kind = 'barh', title = 'Posts per day', ax = axes)\n",
    "axes.plot([0,100],[5,5],'r--',lw=2)\n",
    "axes.set_ylabel('Date')\n",
    "axes.set_xlabel('Posts')\n",
    "\n",
    "#Second axes in upper right shows total posts at different times of day\n",
    "average_time = df['time'].apply(time_to_float).mean()\n",
    "axes = fig.add_subplot(2,2,2)\n",
    "df['time'].apply(time_to_float).hist(bins=24, ax= axes)\n",
    "axes.plot([average_time, average_time], [0,70], 'r--',lw=2)\n",
    "axes.xaxis.set_ticks(np.arange(0, 25, 1))\n",
    "axes.set_xlabel('Time')\n",
    "axes.set_title('Posts per time EST')\n",
    "\n",
    "#Third axes in lower left shows total posts per channel\n",
    "axes = fig.add_subplot(2,2,3)\n",
    "df['channel'].value_counts().plot(kind='barh', title = 'Posts per channel', ax = axes)\n",
    "axes.set_ylabel('Channel')\n",
    "axes.set_xlabel('Posts')\n",
    "\n",
    "plt.show()"
   ]
  },
  {
   "cell_type": "code",
   "execution_count": 7,
   "metadata": {
    "collapsed": false
   },
   "outputs": [],
   "source": [
    "#SKLearn imports for NMF, LDA, KMeans and PCA ran on text data.\n",
    "from sklearn.feature_extraction.text import TfidfVectorizer, CountVectorizer\n",
    "from sklearn.decomposition import NMF, LatentDirichletAllocation, PCA\n",
    "from sklearn.cluster import KMeans\n",
    "#token_pattern = r\"\\b\\w\\w+\\b\""
   ]
  },
  {
   "cell_type": "markdown",
   "metadata": {},
   "source": [
    "### NMF and LDA feature analysis\n",
    "Fit LDA and NMF models to extract topic groups and their top features.  Each post is treated as a document and the content of each post, words through word counts, are used to determine the topics\n",
    "* n_components defines the number of components for NMF and number of topics for LDA.  These values relate to the \"number of topics\" found throughout the documents\n",
    "$${\\ }$$\n",
    "* top_n_features defines the number of features to print"
   ]
  },
  {
   "cell_type": "code",
   "execution_count": 8,
   "metadata": {
    "collapsed": false
   },
   "outputs": [
    {
     "ename": "ValueError",
     "evalue": "np.nan is an invalid document, expected byte or unicode string.",
     "output_type": "error",
     "traceback": [
      "\u001b[0;31m---------------------------------------------------------------------------\u001b[0m",
      "\u001b[0;31mValueError\u001b[0m                                Traceback (most recent call last)",
      "\u001b[0;32m<ipython-input-8-144348e94d97>\u001b[0m in \u001b[0;36m<module>\u001b[0;34m()\u001b[0m\n\u001b[1;32m     10\u001b[0m \u001b[1;33m\u001b[0m\u001b[0m\n\u001b[1;32m     11\u001b[0m \u001b[1;31m#Fit and transform the count vectorizer\u001b[0m\u001b[1;33m\u001b[0m\u001b[1;33m\u001b[0m\u001b[0m\n\u001b[0;32m---> 12\u001b[0;31m \u001b[0mX_counts\u001b[0m \u001b[1;33m=\u001b[0m \u001b[0mvectorizer\u001b[0m\u001b[1;33m.\u001b[0m\u001b[0mfit_transform\u001b[0m\u001b[1;33m(\u001b[0m\u001b[0mdf\u001b[0m\u001b[1;33m[\u001b[0m\u001b[1;34m'text'\u001b[0m\u001b[1;33m]\u001b[0m\u001b[1;33m)\u001b[0m\u001b[1;33m\u001b[0m\u001b[0m\n\u001b[0m\u001b[1;32m     13\u001b[0m \u001b[1;33m\u001b[0m\u001b[0m\n\u001b[1;32m     14\u001b[0m \u001b[1;31m#Define function to print the top words after NMF/LDA\u001b[0m\u001b[1;33m\u001b[0m\u001b[1;33m\u001b[0m\u001b[0m\n",
      "\u001b[0;32mC:\\ProgramData\\Anaconda2\\lib\\site-packages\\sklearn\\feature_extraction\\text.py\u001b[0m in \u001b[0;36mfit_transform\u001b[0;34m(self, raw_documents, y)\u001b[0m\n\u001b[1;32m    837\u001b[0m \u001b[1;33m\u001b[0m\u001b[0m\n\u001b[1;32m    838\u001b[0m         vocabulary, X = self._count_vocab(raw_documents,\n\u001b[0;32m--> 839\u001b[0;31m                                           self.fixed_vocabulary_)\n\u001b[0m\u001b[1;32m    840\u001b[0m \u001b[1;33m\u001b[0m\u001b[0m\n\u001b[1;32m    841\u001b[0m         \u001b[1;32mif\u001b[0m \u001b[0mself\u001b[0m\u001b[1;33m.\u001b[0m\u001b[0mbinary\u001b[0m\u001b[1;33m:\u001b[0m\u001b[1;33m\u001b[0m\u001b[0m\n",
      "\u001b[0;32mC:\\ProgramData\\Anaconda2\\lib\\site-packages\\sklearn\\feature_extraction\\text.py\u001b[0m in \u001b[0;36m_count_vocab\u001b[0;34m(self, raw_documents, fixed_vocab)\u001b[0m\n\u001b[1;32m    760\u001b[0m         \u001b[1;32mfor\u001b[0m \u001b[0mdoc\u001b[0m \u001b[1;32min\u001b[0m \u001b[0mraw_documents\u001b[0m\u001b[1;33m:\u001b[0m\u001b[1;33m\u001b[0m\u001b[0m\n\u001b[1;32m    761\u001b[0m             \u001b[0mfeature_counter\u001b[0m \u001b[1;33m=\u001b[0m \u001b[1;33m{\u001b[0m\u001b[1;33m}\u001b[0m\u001b[1;33m\u001b[0m\u001b[0m\n\u001b[0;32m--> 762\u001b[0;31m             \u001b[1;32mfor\u001b[0m \u001b[0mfeature\u001b[0m \u001b[1;32min\u001b[0m \u001b[0manalyze\u001b[0m\u001b[1;33m(\u001b[0m\u001b[0mdoc\u001b[0m\u001b[1;33m)\u001b[0m\u001b[1;33m:\u001b[0m\u001b[1;33m\u001b[0m\u001b[0m\n\u001b[0m\u001b[1;32m    763\u001b[0m                 \u001b[1;32mtry\u001b[0m\u001b[1;33m:\u001b[0m\u001b[1;33m\u001b[0m\u001b[0m\n\u001b[1;32m    764\u001b[0m                     \u001b[0mfeature_idx\u001b[0m \u001b[1;33m=\u001b[0m \u001b[0mvocabulary\u001b[0m\u001b[1;33m[\u001b[0m\u001b[0mfeature\u001b[0m\u001b[1;33m]\u001b[0m\u001b[1;33m\u001b[0m\u001b[0m\n",
      "\u001b[0;32mC:\\ProgramData\\Anaconda2\\lib\\site-packages\\sklearn\\feature_extraction\\text.py\u001b[0m in \u001b[0;36m<lambda>\u001b[0;34m(doc)\u001b[0m\n\u001b[1;32m    239\u001b[0m \u001b[1;33m\u001b[0m\u001b[0m\n\u001b[1;32m    240\u001b[0m             return lambda doc: self._word_ngrams(\n\u001b[0;32m--> 241\u001b[0;31m                 tokenize(preprocess(self.decode(doc))), stop_words)\n\u001b[0m\u001b[1;32m    242\u001b[0m \u001b[1;33m\u001b[0m\u001b[0m\n\u001b[1;32m    243\u001b[0m         \u001b[1;32melse\u001b[0m\u001b[1;33m:\u001b[0m\u001b[1;33m\u001b[0m\u001b[0m\n",
      "\u001b[0;32mC:\\ProgramData\\Anaconda2\\lib\\site-packages\\sklearn\\feature_extraction\\text.py\u001b[0m in \u001b[0;36mdecode\u001b[0;34m(self, doc)\u001b[0m\n\u001b[1;32m    119\u001b[0m \u001b[1;33m\u001b[0m\u001b[0m\n\u001b[1;32m    120\u001b[0m         \u001b[1;32mif\u001b[0m \u001b[0mdoc\u001b[0m \u001b[1;32mis\u001b[0m \u001b[0mnp\u001b[0m\u001b[1;33m.\u001b[0m\u001b[0mnan\u001b[0m\u001b[1;33m:\u001b[0m\u001b[1;33m\u001b[0m\u001b[0m\n\u001b[0;32m--> 121\u001b[0;31m             raise ValueError(\"np.nan is an invalid document, expected byte or \"\n\u001b[0m\u001b[1;32m    122\u001b[0m                              \"unicode string.\")\n\u001b[1;32m    123\u001b[0m \u001b[1;33m\u001b[0m\u001b[0m\n",
      "\u001b[0;31mValueError\u001b[0m: np.nan is an invalid document, expected byte or unicode string."
     ]
    }
   ],
   "source": [
    "#Number of components, n_components, for NMF/LDA and number of features to print\n",
    "#Number of components relates to the number of \"topics\" found throughout the documents\n",
    "\n",
    "n_components = 7\n",
    "top_n_features = 5\n",
    "\n",
    "#Initialize a word count vectorizer which creates a sparse matrix with \n",
    "#documents as rows and words as columns\n",
    "vectorizer = CountVectorizer(stop_words=\"english\")\n",
    "\n",
    "#Fit and transform the count vectorizer\n",
    "X_counts = vectorizer.fit_transform(df['text'])\n",
    "\n",
    "#Define function to print the top words after NMF/LDA\n",
    "def print_top_words(model, feature_names, n_top_words):\n",
    "    print('\\n--------------------------------\\n')\n",
    "    for topic_idx, topic in enumerate(model.components_):\n",
    "        print(\"Topic #%d:\" % (topic_idx+1))\n",
    "        print(\" \".join([feature_names[i]\n",
    "                        for i in topic.argsort()[:-n_top_words - 1:-1]]))\n",
    "    \n",
    "#Fit an NMF model\n",
    "nmf = NMF(n_components=n_components)\n",
    "nmf.fit(X_counts)\n",
    "print_top_words(nmf, vectorizer.get_feature_names(),top_n_features)\n",
    "\n",
    "#Fit an LDA model\n",
    "lda = LatentDirichletAllocation(n_topics=n_components, learning_method='batch')\n",
    "lda.fit(X_counts)\n",
    "print_top_words(lda, vectorizer.get_feature_names(),top_n_features)\n",
    "\n",
    "print('\\n--------------------------------\\n')"
   ]
  },
  {
   "cell_type": "code",
   "execution_count": null,
   "metadata": {
    "collapsed": false
   },
   "outputs": [],
   "source": [
    "def plot_features(coef, feature_names, top_n=15, ax=None, title=None):\n",
    "    \"\"\"\n",
    "    Parameters\n",
    "    ----------\n",
    "    coef            :     array-like, list of coefficients, unsorted\n",
    "    \n",
    "    feature_names   :     array-like, list of feature names indexed according to coefficients\n",
    "    \n",
    "    top_n           :     int, number of features to print\n",
    "    \n",
    "    ax              :     matplotlib axes object, axes to plot on\n",
    "    \n",
    "    title           :     string, title to be given to the plot\n",
    "    \n",
    "    \n",
    "    Outputs\n",
    "    -------\n",
    "    Creates a bar plot on the specified axis of coefficients and their names.\n",
    "    If not axis is supplied then a new plot is created.\n",
    "    \"\"\"\n",
    "    \n",
    "    #Initialize an axis if None is given\n",
    "    if ax is None:\n",
    "        return None\n",
    "        ax = plt.gca()\n",
    "    \n",
    "    #Sort to coefficients and take the top_n\n",
    "    inds = np.argsort(coef)\n",
    "    high = inds[-top_n:]\n",
    "    \n",
    "    #Define a range for the plot\n",
    "    myrange = range(len(high))\n",
    "    \n",
    "    #Plot the bar chart for features\n",
    "    ax.barh(myrange, coef[high])\n",
    "    ax.set_yticks(myrange)\n",
    "    ax.set_yticklabels(feature_names[high])\n",
    "    ax.yaxis.labelpad=10\n",
    "    \n",
    "    ax.spines['top'].set_visible(False)\n",
    "    ax.spines['right'].set_visible(False)\n",
    "    \n",
    "    #If a title is given, give the plot a title\n",
    "    if title:\n",
    "        ax.set_title(title)"
   ]
  },
  {
   "cell_type": "code",
   "execution_count": null,
   "metadata": {
    "collapsed": true
   },
   "outputs": [],
   "source": [
    "num_topics = 9\n",
    "\n",
    "#vectorizer = TfidfVectorizer(stop_words=\"english\")\n",
    "vectorizer = CountVectorizer(stop_words=\"english\")\n",
    "X_counts = vectorizer.fit_transform(df['text'])\n",
    "feature_names = np.array(vectorizer.get_feature_names())   "
   ]
  },
  {
   "cell_type": "code",
   "execution_count": null,
   "metadata": {
    "collapsed": false
   },
   "outputs": [],
   "source": [
    "nmf = NMF(n_components = num_topics)\n",
    "nmf.fit(X_counts)\n",
    "  \n",
    "components = nmf.components_\n",
    "n = len(components)\n",
    "\n",
    "fig, axes = plt.subplots(int(math.ceil(n/3)),3, figsize=(18, 6*int(n/3)))\n",
    "for component,ax,i in zip(components, axes.flatten(), range(1,num_topics+1)):\n",
    "    plot_features(component, feature_names, ax=ax, title = 'Topic #%d' %i)"
   ]
  },
  {
   "cell_type": "code",
   "execution_count": null,
   "metadata": {
    "collapsed": false
   },
   "outputs": [],
   "source": [
    "lda = LatentDirichletAllocation(n_topics=5, learning_method='batch')\n",
    "lda.fit(X_counts)\n",
    "\n",
    "components = nmf.components_\n",
    "n = len(components)\n",
    "\n",
    "fig, axes = plt.subplots(int(math.ceil(n/3)),3, figsize=(18, 6*int(n/3)))\n",
    "for component,ax,i in zip(components, axes.flatten(), range(1,num_topics+1)):\n",
    "    plot_features(component, feature_names, ax=ax, title = 'Topic #%d' %i)"
   ]
  },
  {
   "cell_type": "code",
   "execution_count": null,
   "metadata": {
    "collapsed": true
   },
   "outputs": [],
   "source": [
    "#Create a new CountVectorizer to capture bigrams\n",
    "num_topics = 7\n",
    "\n",
    "#vectorizer = TfidfVectorizer(stop_words=\"english\")\n",
    "vectorizer = CountVectorizer(stop_words=\"english\", ngram_range=(2,2))\n",
    "X_counts = vectorizer.fit_transform(df['text'])\n",
    "feature_names = np.array(vectorizer.get_feature_names())   "
   ]
  },
  {
   "cell_type": "code",
   "execution_count": null,
   "metadata": {
    "collapsed": false
   },
   "outputs": [],
   "source": [
    "#Graph the top n_components topics for bigrams\n",
    "nmf = NMF(n_components = num_topics)\n",
    "nmf.fit(X_counts)\n",
    "  \n",
    "components = nmf.components_\n",
    "n = len(components)\n",
    "\n",
    "fig, axes = plt.subplots(int(math.ceil(n/3)),3, figsize=(18, 6*int(n/3)))\n",
    "for component,ax,i in zip(components, axes.flatten(), range(1,num_topics+1)):\n",
    "    plot_features(component, feature_names, ax=ax, title = 'Topic #%d' %i)"
   ]
  },
  {
   "cell_type": "code",
   "execution_count": null,
   "metadata": {
    "collapsed": false
   },
   "outputs": [],
   "source": [
    "lda = LatentDirichletAllocation(n_topics=5, learning_method='batch')\n",
    "lda.fit(X_counts)\n",
    "\n",
    "components = nmf.components_\n",
    "n = len(components)\n",
    "\n",
    "fig, axes = plt.subplots(int(math.ceil(n/3)),3, figsize=(18, 6*int(n/3)))\n",
    "for component,ax,i in zip(components, axes.flatten(), range(1,num_topics+1)):\n",
    "    plot_features(component, feature_names, ax=ax, title = 'Topic #%d' %i)"
   ]
  },
  {
   "cell_type": "markdown",
   "metadata": {},
   "source": [
    "### Clustering analysis using KMeans, LDA and NMF"
   ]
  },
  {
   "cell_type": "code",
   "execution_count": null,
   "metadata": {
    "collapsed": false
   },
   "outputs": [],
   "source": [
    "#PCA to project data.  Analyze the explained variance\n",
    "#To ensure first and second components as significant\n",
    "pca = PCA(n_components=30)\n",
    "pca.fit(X_counts.toarray())\n",
    "explained = pca.explained_variance_\n",
    "\n",
    "fig = plt.figure()\n",
    "axes = fig.add_subplot(1,1,1)\n",
    "axes.plot(range(1, len(explained) + 1), explained)\n",
    "axes.set_ylabel('Explained Variance')\n",
    "axes.set_xlabel('Principle Component')\n",
    "plt.show()"
   ]
  },
  {
   "cell_type": "code",
   "execution_count": null,
   "metadata": {
    "collapsed": false
   },
   "outputs": [],
   "source": [
    "#Run clustering with n_components as number of clusters.\n",
    "n_components = 7\n",
    "\n",
    "kmn = KMeans(n_clusters=n_components)\n",
    "clusters_kmn = kmn.fit_predict(X_counts)\n",
    "\n",
    "nmf = NMF(n_components = n_components)\n",
    "nmf.fit(X_counts.T)\n",
    "clusters_nmf = np.argmax(nmf.components_, axis=0)\n",
    "\n",
    "lda = LatentDirichletAllocation(n_topics = n_components, learning_method='batch')\n",
    "lda.fit(X_counts.T)\n",
    "clusters_lda = np.argmax(lda.components_, axis=0)"
   ]
  },
  {
   "cell_type": "code",
   "execution_count": null,
   "metadata": {
    "collapsed": false
   },
   "outputs": [],
   "source": [
    "#Project data down to 2D for visualization\n",
    "pca = PCA(n_components = 2)\n",
    "projected_data = pca.fit_transform(X_counts.toarray())\n",
    "\n",
    "#Define list of cluster labels, titles and axes to loop over\n",
    "clusterings = [df['numeric_label'].as_matrix(), clusters_lda, clusters_nmf, clusters_kmn ]\n",
    "titles = ['True Labels', 'LDA', 'NMF', 'KMeans']\n",
    "fig, axes = plt.subplots(2,2, figsize=(15,15))\n",
    "\n",
    "#Main loop taking indexed list of cluster labels, all axes and titles\n",
    "#for plotting\n",
    "for clustering, ax, title in zip(clusterings, axes.flatten(), titles):\n",
    "    \n",
    "    #Loop over all unique cluster labels to allow for\n",
    "    #specific visual attributes per clustering.\n",
    "    for c in np.unique(clustering):\n",
    "        ax.scatter(projected_data[c == clustering, 0],\n",
    "                   projected_data[c == clustering, 1],\n",
    "                   s=7, label = c, alpha = 0.7)\n",
    "    \n",
    "    #Set axis attributes per axis\n",
    "    ax.legend(bbox_to_anchor=(1.0, 1))\n",
    "    ax.set_ylim(-0.6,0.2)\n",
    "    ax.set_xlim(-0.1,0.2)\n",
    "    ax.set_xlabel('PC1')\n",
    "    ax.set_ylabel('PC2')\n",
    "    ax.set_title(title)\n",
    "\n",
    "plt.show()"
   ]
  }
 ],
 "metadata": {
  "kernelspec": {
   "display_name": "Python 2",
   "language": "python",
   "name": "python2"
  },
  "language_info": {
   "codemirror_mode": {
    "name": "ipython",
    "version": 2
   },
   "file_extension": ".py",
   "mimetype": "text/x-python",
   "name": "python",
   "nbconvert_exporter": "python",
   "pygments_lexer": "ipython2",
   "version": "2.7.13"
  }
 },
 "nbformat": 4,
 "nbformat_minor": 2
}
